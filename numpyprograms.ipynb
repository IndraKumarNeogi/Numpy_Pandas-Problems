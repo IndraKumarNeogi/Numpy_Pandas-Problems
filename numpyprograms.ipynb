{
 "cells": [
  {
   "cell_type": "markdown",
   "metadata": {},
   "source": [
    "Write a NumPy program to create a 3x3 matrix with values ranging from 2 to 10."
   ]
  },
  {
   "cell_type": "code",
   "execution_count": 13,
   "metadata": {},
   "outputs": [
    {
     "data": {
      "text/plain": [
       "array([[ 2,  3,  4],\n",
       "       [ 5,  6,  7],\n",
       "       [ 8,  9, 10]])"
      ]
     },
     "execution_count": 13,
     "metadata": {},
     "output_type": "execute_result"
    }
   ],
   "source": [
    "import numpy as np\n",
    "rows,cols = 3,3\n",
    "numbers = np.arange(2, 11)  \n",
    "matrix = numbers.reshape(rows, cols)\n",
    "matrix"
   ]
  },
  {
   "cell_type": "markdown",
   "metadata": {},
   "source": [
    "Write a NumPy program to create a null vector of size 10 and update the sixth value to 11."
   ]
  },
  {
   "cell_type": "code",
   "execution_count": 14,
   "metadata": {},
   "outputs": [
    {
     "data": {
      "text/plain": [
       "array([ 0.,  0.,  0.,  0.,  0., 11.,  0.,  0.,  0.,  0.])"
      ]
     },
     "execution_count": 14,
     "metadata": {},
     "output_type": "execute_result"
    }
   ],
   "source": [
    "import numpy as np\n",
    "vector = np.zeros((10))\n",
    "vector[5] = 11\n",
    "vector"
   ]
  },
  {
   "cell_type": "markdown",
   "metadata": {},
   "source": [
    "Write a NumPy program to create a 2D array with 1 on the border and 0 inside."
   ]
  },
  {
   "cell_type": "code",
   "execution_count": 15,
   "metadata": {},
   "outputs": [
    {
     "data": {
      "text/plain": [
       "array([[0, 0, 0, 0, 0],\n",
       "       [0, 1, 1, 1, 0],\n",
       "       [0, 1, 1, 1, 0],\n",
       "       [0, 1, 1, 1, 0],\n",
       "       [0, 0, 0, 0, 0]])"
      ]
     },
     "execution_count": 15,
     "metadata": {},
     "output_type": "execute_result"
    }
   ],
   "source": [
    "import numpy as np\n",
    "rows,cols = 5,5\n",
    "array_2d = np.zeros((rows, cols),dtype = int)\n",
    "array_2d[1:4, 1:4] = 1\n",
    "array_2d"
   ]
  },
  {
   "cell_type": "markdown",
   "metadata": {},
   "source": [
    "Write a NumPy program to add a border (filled with 0's) around an existing array."
   ]
  },
  {
   "cell_type": "code",
   "execution_count": 16,
   "metadata": {},
   "outputs": [
    {
     "ename": "ValueError",
     "evalue": "could not broadcast input array from shape (3,2) into shape (5,5)",
     "output_type": "error",
     "traceback": [
      "\u001b[1;31m---------------------------------------------------------------------------\u001b[0m",
      "\u001b[1;31mValueError\u001b[0m                                Traceback (most recent call last)",
      "Cell \u001b[1;32mIn[16], line 8\u001b[0m\n\u001b[0;32m      6\u001b[0m new_c \u001b[38;5;241m=\u001b[39m cols \u001b[38;5;241m+\u001b[39m \u001b[38;5;241m2\u001b[39m\u001b[38;5;241m*\u001b[39mborder_size\n\u001b[0;32m      7\u001b[0m new_array \u001b[38;5;241m=\u001b[39m np\u001b[38;5;241m.\u001b[39mzeros((new_r, new_c), dtype\u001b[38;5;241m=\u001b[39mexisting_array\u001b[38;5;241m.\u001b[39mdtype)\n\u001b[1;32m----> 8\u001b[0m \u001b[43mnew_array\u001b[49m\u001b[43m[\u001b[49m\u001b[43mborder_size\u001b[49m\u001b[43m:\u001b[49m\u001b[43mborder_size\u001b[49m\u001b[43m \u001b[49m\u001b[38;5;241;43m+\u001b[39;49m\u001b[43m \u001b[49m\u001b[43mrows\u001b[49m\u001b[43m,\u001b[49m\u001b[43m \u001b[49m\u001b[43mborder_size\u001b[49m\u001b[43m:\u001b[49m\u001b[43mborder_size\u001b[49m\u001b[43m \u001b[49m\u001b[38;5;241;43m+\u001b[39;49m\u001b[43m \u001b[49m\u001b[43mcols\u001b[49m\u001b[43m]\u001b[49m \u001b[38;5;241m=\u001b[39m existing_array\n\u001b[0;32m      9\u001b[0m new_array\n",
      "\u001b[1;31mValueError\u001b[0m: could not broadcast input array from shape (3,2) into shape (5,5)"
     ]
    }
   ],
   "source": [
    "import numpy as np\n",
    "existing_array = np.array([[1, 2],[3, 4],[5, 6]])\n",
    "border_size = 1\n",
    "r, c = existing_array.shape\n",
    "new_r = rows + 2*border_size\n",
    "new_c = cols + 2*border_size\n",
    "new_array = np.zeros((new_r, new_c), dtype=existing_array.dtype)\n",
    "new_array[border_size:border_size + rows, border_size:border_size + cols] = existing_array\n",
    "new_array"
   ]
  },
  {
   "cell_type": "markdown",
   "metadata": {},
   "source": [
    "Write a NumPy program to find the real and imaginary parts of an array of complex numbers."
   ]
  },
  {
   "cell_type": "code",
   "execution_count": null,
   "metadata": {},
   "outputs": [
    {
     "name": "stdout",
     "output_type": "stream",
     "text": [
      "No complex numbers provided.\n"
     ]
    }
   ],
   "source": [
    "import numpy as np\n",
    "if cx_nos_str.strip(): \n",
    "\tcomplex_numbers = np.array([complex(num.strip()) for num in cx_nos_str.split(',')])\n",
    "\treal_parts = np.real(complex_numbers)\n",
    "\timaginary_parts = np.imag(complex_numbers)\n",
    "\n",
    "\tprint(\"Complex Numbers:\", complex_numbers)\n",
    "\tprint(\"Real Parts:\", real_parts)\n",
    "\tprint(\"Imaginary Parts:\", imaginary_parts)\n",
    "else:\n",
    "\tprint(\"No complex numbers provided.\")"
   ]
  },
  {
   "cell_type": "markdown",
   "metadata": {},
   "source": [
    "### Step-by-Step Beginner Level Program to Find Real and Imaginary Parts of Complex Numbers\n",
    "This program demonstrates how to find the real and imaginary parts of an array of complex numbers using user-defined input."
   ]
  },
  {
   "cell_type": "code",
   "execution_count": null,
   "metadata": {},
   "outputs": [
    {
     "name": "stdout",
     "output_type": "stream",
     "text": [
      "Original array [1.        +0.j         0.70710678+0.70710678j]\n",
      "Real part of the array:\n",
      "[1.         0.70710678]\n",
      "Imaginary part of the array:\n"
     ]
    },
    {
     "data": {
      "text/plain": [
       "array([0.        , 0.70710678])"
      ]
     },
     "execution_count": 8,
     "metadata": {},
     "output_type": "execute_result"
    }
   ],
   "source": [
    "import numpy as np\n",
    "x = np.array([1.0 + 0.j, 0.70710678 + 0.70710678j])\n",
    "print(\"Original array\", x)\n",
    "print(\"Real part of the array:\")\n",
    "print(x.real)\n",
    "print(\"Imaginary part of the array:\")\n",
    "x.imag"
   ]
  },
  {
   "cell_type": "markdown",
   "metadata": {},
   "source": [
    "Write a NumPy program to test whether each element of a 1-D array is also present in a second array."
   ]
  },
  {
   "cell_type": "code",
   "execution_count": null,
   "metadata": {},
   "outputs": [
    {
     "name": "stdout",
     "output_type": "stream",
     "text": [
      "Array1: [ 0 10 20 40 60]\n",
      "Array2: [ 0 40]\n",
      "Compare each element of array1 and array2\n"
     ]
    },
    {
     "data": {
      "text/plain": [
       "array([ True, False, False,  True, False])"
      ]
     },
     "execution_count": 9,
     "metadata": {},
     "output_type": "execute_result"
    }
   ],
   "source": [
    "import numpy as np\n",
    "\n",
    "array1 = np.array([0, 10, 20, 40, 60])\n",
    "array2 = np.array([0, 40])\n",
    "\n",
    "print(\"Array1:\", array1)\n",
    "print(\"Array2:\", array2)\n",
    "\n",
    "result = np.isin(array1, array2)\n",
    "print(\"Compare each element of array1 and array2\")\n",
    "result"
   ]
  },
  {
   "cell_type": "markdown",
   "metadata": {},
   "source": [
    "Write a NumPy program to get the unique elements of an array."
   ]
  },
  {
   "cell_type": "code",
   "execution_count": null,
   "metadata": {},
   "outputs": [
    {
     "name": "stdout",
     "output_type": "stream",
     "text": [
      "Original array:\n",
      "[10 10 20 20 30 30]\n",
      "Unique elements of the above array:\n",
      "[10 20 30]\n",
      "Original array:\n",
      "[[1 1]\n",
      " [2 3]]\n",
      "Unique elements of the above array:\n",
      "[1 2 3]\n",
      "Array2: [ 0 40]\n",
      "Compare each element of array1 and array2\n"
     ]
    },
    {
     "name": "stderr",
     "output_type": "stream",
     "text": [
      "C:\\Users\\Hirak\\AppData\\Local\\Temp\\ipykernel_3644\\158180128.py:18: DeprecationWarning: `in1d` is deprecated. Use `np.isin` instead.\n",
      "  comparison_result = np.in1d(array1, array2)\n"
     ]
    },
    {
     "data": {
      "text/plain": [
       "array([False, False, False, False])"
      ]
     },
     "execution_count": 10,
     "metadata": {},
     "output_type": "execute_result"
    }
   ],
   "source": [
    "import numpy as np\n",
    "array1 = np.array([10, 10, 20, 20, 30, 30])\n",
    "\n",
    "print(\"Original array:\")\n",
    "print(array1)\n",
    "unique_elements = np.unique(array1)\n",
    "print(\"Unique elements of the above array:\")\n",
    "print(unique_elements)\n",
    "array1 = np.array([[1, 1], [2, 3]])\n",
    "print(\"Original array:\")\n",
    "print(array1)\n",
    "unique_elements = np.unique(array1)\n",
    "print(\"Unique elements of the above array:\")\n",
    "print(unique_elements)\n",
    "array2 = np.array([0, 40])\n",
    "print(\"Array2:\", array2)\n",
    "\n",
    "comparison_result = np.in1d(array1, array2)\n",
    "print(\"Compare each element of array1 and array2\")\n",
    "comparison_result\n"
   ]
  },
  {
   "cell_type": "markdown",
   "metadata": {},
   "source": [
    "Write a NumPy program to find the set difference between two arrays. The set difference will return sorted, distinct values in array1 that are not in array2."
   ]
  },
  {
   "cell_type": "code",
   "execution_count": null,
   "metadata": {},
   "outputs": [
    {
     "name": "stdout",
     "output_type": "stream",
     "text": [
      "Set difference of array1 and array2:\n",
      "[ 0 20 60 80]\n"
     ]
    }
   ],
   "source": [
    "import numpy as np\n",
    "array1 = np.array([0, 10, 20, 40, 60, 80])\n",
    "array2 = np.array([10, 30, 40, 50, 70, 90])\n",
    "setdiff = np.setdiff1d(array1, array2)\n",
    "print(\"Set difference of array1 and array2:\")\n",
    "print(setdiff)"
   ]
  },
  {
   "cell_type": "markdown",
   "metadata": {},
   "source": [
    "Write a NumPy program to find the union of two arrays. Union will return a unique, sorted array of values in each of the two input arrays."
   ]
  },
  {
   "cell_type": "code",
   "execution_count": null,
   "metadata": {},
   "outputs": [
    {
     "name": "stdout",
     "output_type": "stream",
     "text": [
      "[ 0 10 20 30 40 50 60 70 80]\n"
     ]
    }
   ],
   "source": [
    "import numpy as np\n",
    "array1 = np.array([0, 10, 20, 40, 60, 80])\n",
    "array2 = np.array([10, 30, 40, 50, 70])\n",
    "print(np.unique(np.concatenate((array1, array2))))"
   ]
  },
  {
   "cell_type": "markdown",
   "metadata": {},
   "source": [
    "Write a NumPy program to construct an array by repeating."
   ]
  },
  {
   "cell_type": "code",
   "execution_count": null,
   "metadata": {},
   "outputs": [
    {
     "name": "stdout",
     "output_type": "stream",
     "text": [
      "Original array: \n",
      "[1 2 3 4]\n",
      "Repeat each element of the above array: \n",
      "[1 2 3 4 1 2 3 4]\n",
      "Repeat each element of the above array: \n",
      "[1 2 3 4 1 2 3 4 1 2 3 4]\n"
     ]
    }
   ],
   "source": [
    "import numpy as np\n",
    "org_array = np.array([1,2,3,4])\n",
    "print(\"Original array: \")\n",
    "print(org_array)\n",
    "repeat_array_2 = np.tile(org_array, 2)\n",
    "print(\"Repeat each element of the above array: \")\n",
    "print(repeat_array_2)\n",
    "repeat_array_3 = np.tile(org_array, 3)\n",
    "print(\"Repeat each element of the above array: \")\n",
    "print(repeat_array_3)"
   ]
  },
  {
   "cell_type": "markdown",
   "metadata": {},
   "source": [
    "Write a NumPy program to repeat array elements"
   ]
  },
  {
   "cell_type": "code",
   "execution_count": 21,
   "metadata": {},
   "outputs": [
    {
     "name": "stdout",
     "output_type": "stream",
     "text": [
      "Original array: \n",
      "[1 2 3 4]\n",
      "Repeat each element of the above array: \n",
      "[1 1 1 1 1 1 1 1 2 2 2 2 2 2 2 2 3 3 3 3 3 3 3 3 4 4 4 4 4 4 4 4]\n"
     ]
    }
   ],
   "source": [
    "import numpy as np\n",
    "org_array = np.array([1,2,3,4])\n",
    "print(\"Original array: \")\n",
    "print(org_array)\n",
    "a=int(input(\"Enter the number of times to repeat: \"))\n",
    "repeat_array_2 = np.repeat(org_array, a)\n",
    "print(\"Repeat each element of the above array: \")\n",
    "print(repeat_array_2)"
   ]
  },
  {
   "cell_type": "markdown",
   "metadata": {},
   "source": [
    "Write a NumPy program to compare two arrays using NumPy"
   ]
  },
  {
   "cell_type": "code",
   "execution_count": 22,
   "metadata": {},
   "outputs": [
    {
     "name": "stdout",
     "output_type": "stream",
     "text": [
      "a > b: [False False]\n",
      "a >= b: [False False]\n",
      "a < b: [ True  True]\n",
      "a <= b: [ True  True]\n"
     ]
    }
   ],
   "source": [
    "import numpy as np\n",
    "a = np.array([1,2])\n",
    "b = np.array([4,5])\n",
    "print(\"a > b:\", a > b)\n",
    "print(\"a >= b:\", a >= b)\n",
    "print(\"a < b:\", a < b)\n",
    "print(\"a <= b:\", a <= b)"
   ]
  },
  {
   "cell_type": "markdown",
   "metadata": {},
   "source": [
    "Write a Numpy program to sort the row wise Matrix"
   ]
  },
  {
   "cell_type": "code",
   "execution_count": 4,
   "metadata": {},
   "outputs": [
    {
     "name": "stdout",
     "output_type": "stream",
     "text": [
      "Original matrix: \n",
      "[[3 7 1]\n",
      " [6 5 4]\n",
      " [9 2 8]]\n",
      "Sorted matrix: \n",
      "[[1 3 7]\n",
      " [4 5 6]\n",
      " [2 8 9]]\n"
     ]
    }
   ],
   "source": [
    "import numpy as np\n",
    "matrix = np.array([[3, 7, 1], [6, 5, 4], [9, 2, 8]]) \n",
    "sorted_matrix = np.sort(matrix, axis=1)\n",
    "print(\"Original matrix: \")\n",
    "print(matrix)\n",
    "print(\"Sorted matrix: \")\n",
    "print(sorted_matrix)"
   ]
  },
  {
   "cell_type": "markdown",
   "metadata": {},
   "source": [
    "Write a numpy program to turn a matrix left and right."
   ]
  },
  {
   "cell_type": "code",
   "execution_count": 7,
   "metadata": {},
   "outputs": [
    {
     "name": "stdout",
     "output_type": "stream",
     "text": [
      "Original matrix:\n",
      "[[1 2 3]\n",
      " [4 5 6]\n",
      " [7 8 9]]\n",
      "Rotated matrix left:\n",
      "[[3 6 9]\n",
      " [2 5 8]\n",
      " [1 4 7]]\n",
      "Rotated matrix right:\n",
      "[[7 4 1]\n",
      " [8 5 2]\n",
      " [9 6 3]]\n"
     ]
    }
   ],
   "source": [
    "import numpy as np\n",
    "matrix = np.array([[1, 2, 3], [4, 5, 6], [7, 8, 9]])\n",
    "rotated_left = np.rot90(matrix, k=1)\n",
    "rotated_right = np.rot90(matrix, k=-1)\n",
    "print(\"Original matrix:\")\n",
    "print(matrix)\n",
    "print(\"Rotated matrix left:\")\n",
    "print(rotated_left)\n",
    "print(\"Rotated matrix right:\")\n",
    "print(rotated_right)"
   ]
  },
  {
   "cell_type": "markdown",
   "metadata": {},
   "source": [
    "Matrix multiplication using numpy."
   ]
  },
  {
   "cell_type": "code",
   "execution_count": 8,
   "metadata": {},
   "outputs": [
    {
     "name": "stdout",
     "output_type": "stream",
     "text": [
      "Multiplied matrix:\n",
      "[[ 9 16 21]\n",
      " [24 25 24]\n",
      " [21 16  9]]\n"
     ]
    }
   ],
   "source": [
    "import numpy as np\n",
    "matrix1 = np.array([[1, 2, 3], [4, 5, 6], [7, 8, 9]])\n",
    "matrix2 = np.array([[9, 8, 7], [6, 5, 4], [3, 2, 1]])\n",
    "multiplied_matrix = np.multiply(matrix1, matrix2)\n",
    "print(\"Multiplied matrix:\")\n",
    "print(multiplied_matrix)"
   ]
  },
  {
   "cell_type": "markdown",
   "metadata": {},
   "source": [
    "Write a Numpy Program to convert a matrix into 1D array"
   ]
  },
  {
   "cell_type": "code",
   "execution_count": 6,
   "metadata": {},
   "outputs": [
    {
     "data": {
      "text/plain": [
       "array([1, 2, 3, 4, 5, 6, 7, 8, 9])"
      ]
     },
     "execution_count": 6,
     "metadata": {},
     "output_type": "execute_result"
    }
   ],
   "source": [
    "import numpy as np\n",
    "matrix = np.array([[1, 2, 3],\n",
    "                   [4, 5, 6],\n",
    "                   [7, 8, 9]])\n",
    "one_dimensional_array = matrix.flatten()\n",
    "one_dimensional_array"
   ]
  },
  {
   "cell_type": "markdown",
   "metadata": {},
   "source": [
    "Write a NumPy program to create another shape from an array without changing its data."
   ]
  },
  {
   "cell_type": "code",
   "execution_count": 7,
   "metadata": {},
   "outputs": [
    {
     "name": "stdout",
     "output_type": "stream",
     "text": [
      "Matrix with zeros:\n",
      "[[0. 0. 0. 0.]\n",
      " [0. 0. 0. 0.]\n",
      " [0. 0. 0. 0.]\n",
      " [0. 0. 0. 0.]\n",
      " [0. 0. 0. 0.]]\n",
      "Reshaped matrix:\n",
      "[[0. 0. 0. 0. 0. 0. 0. 0. 0. 0.]\n",
      " [0. 0. 0. 0. 0. 0. 0. 0. 0. 0.]]\n"
     ]
    }
   ],
   "source": [
    "import numpy as np\n",
    "rows=int(input(\"Enter the number of rows: \"))\n",
    "cols=int(input(\"Enter the number of columns: \"))\n",
    "matrix = np.zeros((rows, cols))\n",
    "print(\"Matrix with zeros:\")\n",
    "print(matrix)\n",
    "reshape_rows=int(input(\"Enter the number of rows for reshaping: \"))\n",
    "reshape_cols=int(input(\"Enter the number of columns for reshaping: \"))\n",
    "if(reshape_rows * reshape_cols != rows * cols):\n",
    "    print(\"Reshape is not possible.\")\n",
    "else:\n",
    "    reshaped_matrix = matrix.reshape(reshape_rows, reshape_cols)\n",
    "    print(\"Reshaped matrix:\")\n",
    "    print(reshaped_matrix)"
   ]
  },
  {
   "cell_type": "markdown",
   "metadata": {},
   "source": [
    "Write a numpy program to print the element ask from user."
   ]
  },
  {
   "cell_type": "code",
   "execution_count": 27,
   "metadata": {},
   "outputs": [
    {
     "name": "stdout",
     "output_type": "stream",
     "text": [
      "Matrix:\n",
      "[[ 14  27  31  44  53]\n",
      " [ 68  75  81  92  10]\n",
      " [ 11 412  92 184 115]\n",
      " [162 174 189 179 230]]\n",
      "The element at the index is:  92\n"
     ]
    }
   ],
   "source": [
    "import numpy as np\n",
    "matrix = np.array([[14, 27, 31, 44, 53], \n",
    "                   [68, 75, 81, 92, 10], \n",
    "                   [11, 412, 92, 184, 115], \n",
    "                   [162, 174, 189, 179, 230]])\n",
    "print(\"Matrix:\")\n",
    "print(matrix)\n",
    "#row_index = int(input(\"Enter the row index (0-indexed): \"))\n",
    "#col_index = int(input(\"Enter the column index (0-indexed): \"))\n",
    "numberofrows = matrix.shape[0]\n",
    "numberofcols = matrix.shape[1]\n",
    "element = int(input(\"Enter the index to find its element: \"))\n",
    "count=0\n",
    "for i in range(numberofrows):\n",
    "    for j in range(numberofcols):\n",
    "        count=count+1\n",
    "        if(count==element):\n",
    "            print(\"The element at the index is: \",matrix[i][j])"
   ]
  },
  {
   "cell_type": "markdown",
   "metadata": {},
   "source": [
    "Write a Numpy Program to concatenate two dimensional Arrays"
   ]
  },
  {
   "cell_type": "code",
   "execution_count": 4,
   "metadata": {},
   "outputs": [
    {
     "data": {
      "text/plain": [
       "array([[ 0,  1,  3,  0,  2,  4],\n",
       "       [ 5,  7,  9,  6,  8, 10]])"
      ]
     },
     "execution_count": 4,
     "metadata": {},
     "output_type": "execute_result"
    }
   ],
   "source": [
    "import numpy as np\n",
    "array1_2d = np.array([[0, 1, 3], [5, 7, 9]])\n",
    "array2_2d = np.array([[0, 2, 4], [6, 8, 10]])\n",
    "np.concatenate((array1_2d, array2_2d), axis=1)\n",
    "\n",
    "\n"
   ]
  },
  {
   "cell_type": "markdown",
   "metadata": {},
   "source": [
    "Splits an array of shape 4*4 into two arrays along the second axis."
   ]
  },
  {
   "cell_type": "code",
   "execution_count": null,
   "metadata": {},
   "outputs": [
    {
     "name": "stdout",
     "output_type": "stream",
     "text": [
      "Original array:\n",
      "[[ 0  1  2  3]\n",
      " [ 4  5  6  7]\n",
      " [ 8  9 10 11]\n",
      " [12 13 14 15]]\n",
      "Split into two arrays along the second axis:\n",
      "[array([[ 0,  1],\n",
      "       [ 4,  5],\n",
      "       [ 8,  9],\n",
      "       [12, 13]]), array([[ 2,  3],\n",
      "       [ 6,  7],\n",
      "       [10, 11],\n",
      "       [14, 15]])]\n"
     ]
    }
   ],
   "source": [
    "import numpy as np\n",
    "array_4X4 = np.array([[0, 1, 2, 3], [4, 5, 6, 7], [8, 9, 10, 11], [12, 13, 14, 15]])\n",
    "\n",
    "print(\"Original array:\")\n",
    "print(array_4X4)\n",
    "print(\"Split into two arrays along the second axis:\")\n",
    "print(np.split(array_4X4, 2, axis=1))\n"
   ]
  },
  {
   "cell_type": "markdown",
   "metadata": {},
   "source": [
    "To combine a one and two dimensional array together and display there elements."
   ]
  },
  {
   "cell_type": "code",
   "execution_count": 34,
   "metadata": {},
   "outputs": [
    {
     "name": "stdout",
     "output_type": "stream",
     "text": [
      "one_dimensional_array: \n",
      "[0 1 2 3]\n",
      "2D array: \n",
      "[[0 1 2 3]\n",
      " [4 5 6 7]]\n",
      "Concatenated array: \n",
      "[[0 1 2 3]\n",
      " [0 1 2 3]\n",
      " [4 5 6 7]]\n"
     ]
    }
   ],
   "source": [
    "import numpy as np\n",
    "one_dimensional_array = np.array([0, 1, 2, 3])\n",
    "print(\"one_dimensional_array: \")\n",
    "print(one_dimensional_array)\n",
    "two_d_array = np.array([[0, 1, 2, 3], [4, 5, 6, 7]])\n",
    "print(\"2D array: \")\n",
    "print(two_d_array)\n",
    "one_dimensional_array_reshaped = one_dimensional_array.reshape(1, -1) \n",
    "concatenated_array = np.concatenate((one_dimensional_array_reshaped, two_d_array), axis=0)\n",
    "print(\"Concatenated array: \")\n",
    "print(concatenated_array)\n"
   ]
  }
 ],
 "metadata": {
  "kernelspec": {
   "display_name": "Python 3",
   "language": "python",
   "name": "python3"
  },
  "language_info": {
   "codemirror_mode": {
    "name": "ipython",
    "version": 3
   },
   "file_extension": ".py",
   "mimetype": "text/x-python",
   "name": "python",
   "nbconvert_exporter": "python",
   "pygments_lexer": "ipython3",
   "version": "3.12.0"
  }
 },
 "nbformat": 4,
 "nbformat_minor": 2
}
