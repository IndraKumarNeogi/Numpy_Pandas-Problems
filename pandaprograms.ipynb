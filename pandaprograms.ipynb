{
 "cells": [
  {
   "cell_type": "markdown",
   "id": "c576af8b",
   "metadata": {},
   "source": [
    "Write a Pandas program to convert a dictionary to a Pandas series."
   ]
  },
  {
   "cell_type": "code",
   "execution_count": null,
   "id": "1d519ab7",
   "metadata": {},
   "outputs": [
    {
     "data": {
      "text/plain": [
       "a    100\n",
       "b    200\n",
       "c    300\n",
       "d    400\n",
       "e    800\n",
       "dtype: int64"
      ]
     },
     "execution_count": 1,
     "metadata": {},
     "output_type": "execute_result"
    }
   ],
   "source": [
    "import pandas as pd\n",
    "original_dict = {'a': 100, 'b': 200, 'c': 300, 'd': 400, 'e': 800}\n",
    "series = pd.Series(original_dict)\n",
    "print(series)"
   ]
  },
  {
   "cell_type": "markdown",
   "id": "030f9055",
   "metadata": {},
   "source": [
    "Write a Pandas Program to add, subtract, multiply and divide two Pandas Series"
   ]
  },
  {
   "cell_type": "code",
   "execution_count": null,
   "id": "fa9a7f43",
   "metadata": {},
   "outputs": [
    {
     "name": "stdout",
     "output_type": "stream",
     "text": [
      "Add two series: \n",
      "0     3\n",
      "1     7\n",
      "2    11\n",
      "3    15\n",
      "4    19\n",
      "dtype: int64\n",
      "Subtract two series: \n",
      "0    1\n",
      "1    1\n",
      "2    1\n",
      "3    1\n",
      "4    1\n",
      "dtype: int64\n",
      "Multiply two series: \n",
      "0     2\n",
      "1    12\n",
      "2    30\n",
      "3    56\n",
      "4    90\n",
      "dtype: int64\n",
      "Divide two series: \n",
      "0    2.000000\n",
      "1    1.333333\n",
      "2    1.200000\n",
      "3    1.142857\n",
      "4    1.111111\n",
      "dtype: float64\n"
     ]
    }
   ],
   "source": [
    "import pandas as pd\n",
    "ds1 = pd.Series([2, 4, 6, 8, 10])\n",
    "ds2 = pd.Series([1, 3, 5, 7, 9])\n",
    "print(\"Add two series:\")\n",
    "print(ds1 + ds2)\n",
    "print(\"Subtract two series:\")\n",
    "print(ds1 - ds2)\n",
    "print(\"Multiply two series:\")\n",
    "print(ds1 * ds2)\n",
    "print(\"Divide two series:\")\n",
    "print(ds1 / ds2)"
   ]
  },
  {
   "cell_type": "markdown",
   "id": "54b34645",
   "metadata": {},
   "source": [
    "Write a Pandas program to compare the elements of the two Pandas Series."
   ]
  },
  {
   "cell_type": "code",
   "execution_count": null,
   "id": "e837b302",
   "metadata": {},
   "outputs": [
    {
     "name": "stdout",
     "output_type": "stream",
     "text": [
      "Greater than two series: \n",
      "0     True\n",
      "1     True\n",
      "2     True\n",
      "3     True\n",
      "4    False\n",
      "dtype: bool\n",
      "Less than two series: \n",
      "0    False\n",
      "1    False\n",
      "2    False\n",
      "3    False\n",
      "4    False\n",
      "dtype: bool\n",
      "Greater than or equal to two series: \n",
      "0    True\n",
      "1    True\n",
      "2    True\n",
      "3    True\n",
      "4    True\n",
      "dtype: bool\n",
      "Less than or equal to two series: \n",
      "0    False\n",
      "1    False\n",
      "2    False\n",
      "3    False\n",
      "4     True\n",
      "dtype: bool\n",
      "Equal to two series: \n",
      "0    False\n",
      "1    False\n",
      "2    False\n",
      "3    False\n",
      "4     True\n",
      "dtype: bool\n",
      "Not equal to two series: \n",
      "0     True\n",
      "1     True\n",
      "2     True\n",
      "3     True\n",
      "4    False\n",
      "dtype: bool\n"
     ]
    }
   ],
   "source": [
    "import pandas as pd\n",
    "ds1 = pd.Series([2, 4, 6, 8, 10])\n",
    "ds2 = pd.Series([1, 3, 5, 7, 10])\n",
    "print(\"Greater than two series:\")\n",
    "print(ds1 > ds2)\n",
    "print(\"Less than two series:\")\n",
    "print(ds1 < ds2)\n",
    "print(\"Greater than or equal to two series:\")\n",
    "print(ds1 >= ds2)\n",
    "print(\"Less than or equal to two series:\")\n",
    "print(ds1 <= ds2)\n",
    "print(\"Equal to two series:\")\n",
    "print(ds1 == ds2)\n",
    "print(\"Not equal to two series:\")\n",
    "print(ds1 != ds2)"
   ]
  },
  {
   "cell_type": "markdown",
   "id": "113e2c72",
   "metadata": {},
   "source": [
    "Write a Pandas Program to change the data type of a given column or a series"
   ]
  },
  {
   "cell_type": "code",
   "execution_count": null,
   "id": "f6988418",
   "metadata": {},
   "outputs": [
    {
     "name": "stdout",
     "output_type": "stream",
     "text": [
      "change type of series into numeric:\n",
      "0    100.00\n",
      "1    200.00\n",
      "2       NaN\n",
      "3    300.12\n",
      "4    400.00\n",
      "dtype: float64\n"
     ]
    }
   ],
   "source": [
    "import pandas as pd\n",
    "s = pd.Series([100, 200, 'python', 300.12, 400])\n",
    "print(\"Change type of series into numeric:\")\n",
    "s = pd.to_numeric(s, errors='coerce')\n",
    "print(s)"
   ]
  },
  {
   "cell_type": "markdown",
   "id": "92a81a98",
   "metadata": {},
   "source": [
    "Write a Pandas program to join the two given dataframes along rows and assign all the data"
   ]
  },
  {
   "cell_type": "code",
   "execution_count": null,
   "id": "8b809fec",
   "metadata": {},
   "outputs": [
    {
     "name": "stdout",
     "output_type": "stream",
     "text": [
      "  student_id      student_name  student_marks\n",
      "0         s1  Danniella Fenton            200\n",
      "1         s2      Ryder Storey            210\n",
      "2         s3      Bryce Jenson            190\n",
      "3         s4         Ed Bernal            222\n",
      "4         s5       Kwame Morin            199\n",
      "5         s4  Scarlette Fisher            201\n",
      "6         s5  Carla Williamson            200\n",
      "7         s6       Dante Morse            198\n",
      "8         s7    Kaiser William            219\n",
      "9         s8   Madeeha Preston            201\n"
     ]
    }
   ],
   "source": [
    "import pandas as pd\n",
    "student_d1 = pd.DataFrame({'student_id': ['s1', 's2', 's3', 's4', 's5'],\n",
    "                          'student_name': ['Danniella Fenton', 'Ryder Storey', 'Bryce Jenson', 'Ed Bernal', 'Kwame Morin'],\n",
    "                          'student_marks': [200, 210, 190, 222, 199]})\n",
    "student_d2 = pd.DataFrame({'student_id': ['s4', 's5', 's6', 's7', 's8'],\n",
    "                          'student_name': ['Scarlette Fisher', 'Carla Williamson', 'Dante Morse', 'Kaiser William', 'Madeeha Preston'],\n",
    "                          'student_marks': [201, 200, 198, 219, 201]})\n",
    "all_students = pd.concat([student_d1, student_d2], ignore_index=True)\n",
    "print(all_students)"
   ]
  },
  {
   "cell_type": "markdown",
   "id": "ef42f572",
   "metadata": {},
   "source": [
    "Write a Pandas program to join the two given dataframes along coloumns and assign all the data."
   ]
  },
  {
   "cell_type": "code",
   "execution_count": 3,
   "id": "7ad83b16",
   "metadata": {},
   "outputs": [
    {
     "name": "stdout",
     "output_type": "stream",
     "text": [
      "  student_id      student_name  student_marks student_id      student_name  \\\n",
      "0         s1  Danniella Fenton            200         s4  Scarlette Fisher   \n",
      "1         s2      Ryder Storey            210         s5  Carla Williamson   \n",
      "2         s3      Bryce Jenson            190         s6       Dante Morse   \n",
      "3         s4         Ed Bernal            222         s7    Kaiser William   \n",
      "4         s5       Kwame Morin            199         s8   Madeeha Preston   \n",
      "\n",
      "   student_marks  \n",
      "0            201  \n",
      "1            200  \n",
      "2            198  \n",
      "3            219  \n",
      "4            201  \n"
     ]
    }
   ],
   "source": [
    "import pandas as pd\n",
    "student_d1 = pd.DataFrame({'student_id': ['s1', 's2', 's3', 's4', 's5'],\n",
    "                          'student_name': ['Danniella Fenton', 'Ryder Storey', 'Bryce Jenson', 'Ed Bernal', 'Kwame Morin'],\n",
    "                          'student_marks': [200, 210, 190, 222, 199]})\n",
    "student_d2 = pd.DataFrame({'student_id': ['s4', 's5', 's6', 's7', 's8'],\n",
    "                          'student_name': ['Scarlette Fisher', 'Carla Williamson', 'Dante Morse', 'Kaiser William', 'Madeeha Preston'],\n",
    "                          'student_marks': [201, 200, 198, 219, 201]})\n",
    "all_students = pd.concat([student_d1, student_d2], axis=1)\n",
    "print(all_students)"
   ]
  },
  {
   "cell_type": "markdown",
   "id": "d19e4fa0",
   "metadata": {},
   "source": [
    "Write a Pandas program to join the two given dataframes along rows and assign all the data"
   ]
  },
  {
   "cell_type": "code",
   "execution_count": 5,
   "id": "8b92347d",
   "metadata": {},
   "outputs": [
    {
     "name": "stdout",
     "output_type": "stream",
     "text": [
      "   student_id      student_name student_marks\n",
      "0          s1  Danniella Fenton           200\n",
      "1          s2      Ryder Storey           210\n",
      "2          s3      Bryce Jenson           190\n",
      "3          s4         Ed Bernal           222\n",
      "4          s5       Kwame Morin           199\n",
      "5          s4  Scarlette Fisher           201\n",
      "6          s5  Carla Williamson           200\n",
      "7          s6       Dante Morse           198\n",
      "8          s7    Kaiser William           219\n",
      "9          s8   Madeeha Preston           201\n",
      "10         s9       Hurko Kutta            69\n"
     ]
    }
   ],
   "source": [
    "import pandas as pd\n",
    "student_d1 = pd.DataFrame({'student_id': ['s1', 's2', 's3', 's4', 's5'],\n",
    "                          'student_name': ['Danniella Fenton', 'Ryder Storey', 'Bryce Jenson', 'Ed Bernal', 'Kwame Morin'],\n",
    "                          'student_marks': [200, 210, 190, 222, 199]})\n",
    "student_d2 = pd.DataFrame({'student_id': ['s4', 's5', 's6', 's7', 's8'],\n",
    "                          'student_name': ['Scarlette Fisher', 'Carla Williamson', 'Dante Morse', 'Kaiser William', 'Madeeha Preston'],\n",
    "                          'student_marks': [201, 200, 198, 219, 201]})\n",
    "all_students = pd.concat([student_d1, student_d2], ignore_index=True)\n",
    "student_id = input(\"Enter student id: \")\n",
    "student_name = input(\"Enter student name: \")\n",
    "student_marks = input(\"Enter student marks: \")\n",
    "#add the new row to the dataframe\n",
    "new_row = pd.DataFrame({'student_id': [student_id], 'student_name': [student_name], 'student_marks': [student_marks]})\n",
    "all_students = pd.concat([all_students, new_row], ignore_index=True)\n",
    "print(all_students)"
   ]
  },
  {
   "cell_type": "markdown",
   "id": "8ac117ea",
   "metadata": {},
   "source": [
    "Write a Pandas program to print common rows between two given dataframes"
   ]
  },
  {
   "cell_type": "code",
   "execution_count": 8,
   "id": "abc1e869",
   "metadata": {},
   "outputs": [
    {
     "name": "stdout",
     "output_type": "stream",
     "text": [
      "Common students in both dataframes:\n",
      "  student_id student_name_x  student_marks_x    student_name_y  \\\n",
      "0         s4      Ed Bernal              222  Scarlette Fisher   \n",
      "1         s5    Kwame Morin              199  Carla Williamson   \n",
      "\n",
      "   student_marks_y  \n",
      "0              201  \n",
      "1              200  \n"
     ]
    }
   ],
   "source": [
    "import pandas as pd\n",
    "student_d1 = pd.DataFrame({'student_id': ['s1', 's2', 's3', 's4', 's5'],\n",
    "                          'student_name': ['Danniella Fenton', 'Ryder Storey', 'Bryce Jenson', 'Ed Bernal', 'Kwame Morin'],\n",
    "                          'student_marks': [200, 210, 190, 222, 199]})\n",
    "student_d2 = pd.DataFrame({'student_id': ['s4', 's5', 's6', 's7', 's8'],\n",
    "                          'student_name': ['Scarlette Fisher', 'Carla Williamson', 'Dante Morse', 'Kaiser William', 'Madeeha Preston'],\n",
    "                          'student_marks': [201, 200, 198, 219, 201]})\n",
    "common_students = pd.merge(student_d1, student_d2, on='student_id')\n",
    "print(\"Common students in both dataframes:\")\n",
    "print(common_students)\n",
    "\n",
    "\n",
    "\n"
   ]
  },
  {
   "cell_type": "markdown",
   "id": "a4ad5df8",
   "metadata": {},
   "source": [
    "Write a Pandas Program to merge two dataframe with the missing records."
   ]
  },
  {
   "cell_type": "code",
   "execution_count": 2,
   "id": "d708012d",
   "metadata": {},
   "outputs": [
    {
     "name": "stdout",
     "output_type": "stream",
     "text": [
      "Merged DataFrame with missing records:\n",
      "  Id         Name   Age\n",
      "0  1     John Doe  22.0\n",
      "1  2   Jane Smith   NaN\n",
      "2  3  Emily Davis  23.0\n",
      "3  4          NaN  21.0\n"
     ]
    }
   ],
   "source": [
    "import pandas as pd\n",
    "student_d1 = pd.DataFrame({'Id': ['1', '2', '3'],\n",
    "                            'Name': ['John Doe', 'Jane Smith', 'Emily Davis'],\n",
    "                            })\n",
    "student_d2 = pd.DataFrame({'Id': ['1', '3', '4'],\n",
    "                           'Age': [22, 23, 21]\n",
    "                            })\n",
    "merged_df = pd.merge(student_d1, student_d2, on='Id', how='outer')\n",
    "print(\"Merged DataFrame with missing records:\")\n",
    "print(merged_df)"
   ]
  },
  {
   "cell_type": "markdown",
   "id": "b559f789",
   "metadata": {},
   "source": [
    "Write a Pandas program to merge two dataframe and rename columns"
   ]
  },
  {
   "cell_type": "code",
   "execution_count": 3,
   "id": "9f24227b",
   "metadata": {},
   "outputs": [
    {
     "name": "stdout",
     "output_type": "stream",
     "text": [
      "Merged DataFrame with renamed column:\n",
      "  Id         Name  Annual Salary\n",
      "0  1     John Doe        50000.0\n",
      "1  2   Jane Smith            NaN\n",
      "2  3  Emily Davis        60000.0\n",
      "3  4          NaN        65000.0\n"
     ]
    }
   ],
   "source": [
    "import pandas as pd\n",
    "student_d1 = pd.DataFrame({'Id': ['1', '2', '3'],\n",
    "                            'Name': ['John Doe', 'Jane Smith', 'Emily Davis'],\n",
    "                            })\n",
    "student_d2 = pd.DataFrame({'Id': ['1', '3', '4'],\n",
    "                           'Salary': [50000, 60000, 65000]\n",
    "                            })\n",
    "merged_df = pd.merge(student_d1, student_d2, on='Id', how='outer')\n",
    "merged_df.rename(columns={'Salary': 'Annual Salary'}, inplace=True)\n",
    "print(\"Merged DataFrame with renamed column:\")\n",
    "print(merged_df)"
   ]
  },
  {
   "cell_type": "markdown",
   "id": "71f35b4f",
   "metadata": {},
   "source": [
    "Merge 2 dataframes with different columns"
   ]
  },
  {
   "cell_type": "code",
   "execution_count": 8,
   "id": "5881fda3",
   "metadata": {},
   "outputs": [
    {
     "name": "stdout",
     "output_type": "stream",
     "text": [
      "Combined DataFrame:\n",
      "      A    B\n",
      "0  1.0  3.0\n",
      "1  0.0  4.0\n",
      "2  3.0  5.0\n"
     ]
    }
   ],
   "source": [
    "import pandas as pd\n",
    "data1 = {'A': [None, 0.0, None], 'B': [3, 4, 5]}\n",
    "df1 = pd.DataFrame(data1)\n",
    "data2 = {'A': [1, 1, 3], 'B': [3.0, None, 3.0]}\n",
    "df2 = pd.DataFrame(data2)\n",
    "result = df1.combine_first(df2)\n",
    "print(\"Combined DataFrame:\\n\", result)"
   ]
  },
  {
   "cell_type": "markdown",
   "id": "0889e4f9",
   "metadata": {},
   "source": []
  }
 ],
 "metadata": {
  "kernelspec": {
   "display_name": "Python 3",
   "language": "python",
   "name": "python3"
  },
  "language_info": {
   "codemirror_mode": {
    "name": "ipython",
    "version": 3
   },
   "file_extension": ".py",
   "mimetype": "text/x-python",
   "name": "python",
   "nbconvert_exporter": "python",
   "pygments_lexer": "ipython3",
   "version": "3.12.0"
  }
 },
 "nbformat": 4,
 "nbformat_minor": 5
}
